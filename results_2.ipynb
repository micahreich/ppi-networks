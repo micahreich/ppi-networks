{
 "cells": [
  {
   "cell_type": "code",
   "execution_count": 65,
   "id": "3c216f04",
   "metadata": {},
   "outputs": [],
   "source": [
    "def jaccard(pred_labels, true_labels, weights=None):\n",
    "    # compute weighted/non-weighted jaccard distance between true and predicted labels\n",
    "    # smaller weights indicate higher importance\n",
    "    \n",
    "    pred_labels = set(pred_labels)\n",
    "    true_labels = set(true_labels)\n",
    "    \n",
    "    intersection = pred_labels.intersection(true_labels)\n",
    "    union = pred_labels.union(true_labels)\n",
    "    \n",
    "    if weights:\n",
    "        intersection_size = sum([\n",
    "            (1 / weights[label]) for label in intersection\n",
    "        ])\n",
    "        \n",
    "        union_size = sum([\n",
    "            (1 / weights[label]) for label in union\n",
    "        ])\n",
    "    else:\n",
    "        intersection_size = len(intersection)\n",
    "        union_size = len(union)\n",
    "    \n",
    "    return intersection_size / union_size"
   ]
  },
  {
   "cell_type": "code",
   "execution_count": 67,
   "id": "d170f3bf",
   "metadata": {},
   "outputs": [],
   "source": [
    "def precision(pred_labels, true_labels, weights=None):\n",
    "    # compute weighted/non-weighted precision between true and predicted labels\n",
    "    # smaller weights indicate higher importance\n",
    "    \n",
    "    pred_labels = set(pred_labels)\n",
    "    true_labels = set(true_labels)\n",
    "    \n",
    "    intersection = pred_labels.intersection(true_labels)\n",
    "    \n",
    "    if weights:\n",
    "        intersection_size = sum([\n",
    "            (1 / weights[label]) for label in intersection\n",
    "        ])\n",
    "        \n",
    "        pred_size = sum([\n",
    "            (1 / weights[label]) for label in pred_labels\n",
    "        ])\n",
    "    else:\n",
    "        intersection_size = len(intersection)\n",
    "        pred_size = len(pred_labels)\n",
    "    \n",
    "    return intersection_size / pred_size\n",
    "\n",
    "def recall(pred_labels, true_labels, weights=None):\n",
    "    # compute weighted/non-weighted recall between true and predicted labels\n",
    "    # smaller weights indicate higher importance\n",
    "    \n",
    "    pred_labels = set(pred_labels)\n",
    "    true_labels = set(true_labels)\n",
    "    \n",
    "    intersection = pred_labels.intersection(true_labels)\n",
    "    false_negatives = true_labels.difference(pred_labels)\n",
    "    \n",
    "    if weights:\n",
    "        intersection_size = sum([\n",
    "            (1 / weights[label]) for label in intersection\n",
    "        ])\n",
    "        \n",
    "        false_negative_size = sum([\n",
    "            (1 / weights[label]) for label in false_negatives\n",
    "        ])\n",
    "    else:\n",
    "        intersection_size = len(intersection)\n",
    "        pred_size = len(false_negatives)\n",
    "    \n",
    "    return intersection_size / (intersection_size + false_negative_size)\n",
    "\n",
    "def f1_score(pred_labels, true_labels, weights=None):\n",
    "    precision_score = precision(pred_labels, true_labels, weights)\n",
    "    recall_score = recall(pred_labels, true_labels, weights)\n",
    "    \n",
    "    return (2 * precision_score * recall_score) / (precision_score + recall_score)"
   ]
  },
  {
   "cell_type": "code",
   "execution_count": 68,
   "id": "609adecf",
   "metadata": {},
   "outputs": [
    {
     "data": {
      "text/plain": [
       "0.9994402172786266"
      ]
     },
     "execution_count": 68,
     "metadata": {},
     "output_type": "execute_result"
    }
   ],
   "source": [
    "f1_score(\n",
    "    [1,2,3,4,5,6,7,11], [1,2,3,4,5,6,7,8],\n",
    "    {\n",
    "        0: 1,\n",
    "        1: 6,\n",
    "        2: 1,\n",
    "        3: 1,\n",
    "        4: 0.001,\n",
    "        5: 1,\n",
    "        6: 1,\n",
    "        7: 8,\n",
    "        8: 1,\n",
    "        11: 8\n",
    "    }\n",
    ")"
   ]
  }
 ],
 "metadata": {
  "kernelspec": {
   "display_name": "Python 3 (ipykernel)",
   "language": "python",
   "name": "python3"
  },
  "language_info": {
   "codemirror_mode": {
    "name": "ipython",
    "version": 3
   },
   "file_extension": ".py",
   "mimetype": "text/x-python",
   "name": "python",
   "nbconvert_exporter": "python",
   "pygments_lexer": "ipython3",
   "version": "3.8.13"
  }
 },
 "nbformat": 4,
 "nbformat_minor": 5
}

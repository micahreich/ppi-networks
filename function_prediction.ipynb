{
 "cells": [
  {
   "cell_type": "code",
   "execution_count": 44,
   "id": "e62c03ac",
   "metadata": {},
   "outputs": [],
   "source": [
    "# import statements\n",
    "import numpy as np\n",
    "from ipynb.fs.full.data_explore import DataExplorer\n",
    "from collections import Counter"
   ]
  },
  {
   "cell_type": "code",
   "execution_count": 43,
   "id": "b45aae06",
   "metadata": {},
   "outputs": [],
   "source": [
    "class FunctionPrediction():\n",
    "    def __init__(self, organism_name):\n",
    "        # get all the annotation, adjacency list data from the explorer class\n",
    "        self.data_explorer = DataExplorer(organism_name)\n",
    "        \n",
    "    def majority_rule(self, protein_id, t=1):\n",
    "        # input: protein_id, adjacency list graph representation\n",
    "        # output: cluster_id of protein_id based on the majority rule of protein_id's neighbors\n",
    "        \n",
    "        print(\"{} has {} neighbors\".format(protein_id, len(self.data_explorer.adj_list[protein_id])))\n",
    "        \n",
    "        tmp = [\n",
    "            self.data_explorer.annotation_list[nbor[0]]\n",
    "            for nbor in self.data_explorer.adj_list[protein_id]\n",
    "        ]\n",
    "        \n",
    "        nbor_clusters = []\n",
    "        \n",
    "        # need to identify this neighbor's cluster by membership to t^th-smallest cluster, parameterized\n",
    "        for cluster_list in tmp:\n",
    "            # (cluster, size) tuples, sort by size\n",
    "            zipped_list = [\n",
    "                (cluster_id, self.data_explorer.cluster_sizes[cluster_id])\n",
    "                for cluster_id in cluster_list\n",
    "            ]\n",
    "            \n",
    "            sorted_list = sorted(zipped_list, key=lambda tup: tup[1])\n",
    "            \n",
    "            # for each neighbor, we take the t^th smallest cluster that it's a part of, assign that to be\n",
    "            # its identity, then add this cluster to the neighbor cluster list from which we pick the majority\n",
    "            nbor_clusters.append(\n",
    "                sorted_list[min(t - 1, len(sorted_list) - 1)][0]\n",
    "            )\n",
    "        \n",
    "        most_common_nbor = Counter(nbor_clusters).most_common(1)[0][0]\n",
    "        return most_common_nbor"
   ]
  },
  {
   "cell_type": "code",
   "execution_count": 38,
   "id": "bba202e5",
   "metadata": {},
   "outputs": [
    {
     "name": "stdout",
     "output_type": "stream",
     "text": [
      "362663.ECP_0002 has 631 neighbors\n",
      "1053\n",
      "['0', '1049', '1050', '1051', '1052', '1053', '1054', '1120', '1121', '1122', '1134', '12', '16', '21', '23', '27', '29', '30', '32', '33', '34', '35', '36', '37', '38', '39', '40', '41', '42', '43', '44', '45', '46', '47', '48', '49', '50', '51', '52', '53', '54', '55', '56', '57', '58', '59', '60', '61', '62', '63', '8']\n"
     ]
    }
   ],
   "source": [
    "f = FunctionPrediction(\"ecoli\")\n",
    "f.majority_rule(\"362663.ECP_0002\")"
   ]
  }
 ],
 "metadata": {
  "kernelspec": {
   "display_name": "Python 3 (ipykernel)",
   "language": "python",
   "name": "python3"
  },
  "language_info": {
   "codemirror_mode": {
    "name": "ipython",
    "version": 3
   },
   "file_extension": ".py",
   "mimetype": "text/x-python",
   "name": "python",
   "nbconvert_exporter": "python",
   "pygments_lexer": "ipython3",
   "version": "3.8.13"
  }
 },
 "nbformat": 4,
 "nbformat_minor": 5
}

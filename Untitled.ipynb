{
 "cells": [
  {
   "cell_type": "code",
   "execution_count": 17,
   "id": "60b98337",
   "metadata": {},
   "outputs": [],
   "source": [
    "from Bio import pairwise2\n",
    "from Bio.SubsMat import MatrixInfo as matlist\n",
    "from math import log"
   ]
  },
  {
   "cell_type": "code",
   "execution_count": 18,
   "id": "d280c921",
   "metadata": {},
   "outputs": [],
   "source": [
    "X = \"MNILYSILMNLALFLIGYLLLGSFNTSIILSRRVKNDDIREHNSKNAGATNSLRTYGAKFALIVFATDVLKTLIPILIISAIVNHVPAVKSFSQASYISPQVLGLGVVIGHIFPAYYKFKGGKGAACTVGLIISINIILFLIAFLLFLLVVGISKIVSLGSITVAFSLLLFVWMPWMIQGPTGYWTNAVEYINSFTILVNYWYVSPIIYTLCALLVLVSHRDNFKRLINKSERKFAIKKAA\"\n",
    "Y = \"MEKYILTLDEGTTSARALIVNKKGEIIAVEQAEFTQHFPKEGWVEHDAIEIWNTQRSTLVQVLNKSKISPEQIDSIGITNQRETVVIWNKETGLPIYNAIVWQDQRTAEYCQSFTKEQVELVKEKTGLIINPYFSGTKVKWILDNVPNARGLASEGKLMFGTINTWLIYRLTGGKVFATDHTNAQRTLLYNIHTNNWDDELLKLFDIPKNILPEIKSCSEEYGITFPHLFSRDNTNQIRITSSIGDQQSALFGQLCLEKGQSKITYGTGCFILTNTGESIVKSTHGLLTTIAYSFKDKIHYALEGSVMIAGAAVQWLRDNLKIVYSALETEWYAGQVNDDRRVYVVPSFTGLGSPYWDSYSRGAIFGLDRGTKREHIVRATLEAIAYQANDVVSAMGKDMNDPVKLFKVDGGASNNKFMMQFQSNISQSKVIKPVNIETTAMGAAFMAGLATGYWSSIDEIKQTYKVHFEITPEISATEANKLIKGWDVAVKRTFNWTKDIE\""
   ]
  },
  {
   "cell_type": "code",
   "execution_count": 46,
   "id": "732dddec",
   "metadata": {},
   "outputs": [],
   "source": [
    "def gap_function(x, y):  # x is gap position in seq, y is gap length\n",
    "            if y == 0:  # No gap\n",
    "                return 0\n",
    "            elif y == 1:  # Gap open penalty\n",
    "                return -2\n",
    "            return - (2 + y/4.0 + log(y)/2.0)\n",
    "        \n",
    "matrix = matlist.blosum62\n",
    "a = pairwise2.align.globalds(\"X\", \"XY\", matrix, -1,-1)"
   ]
  },
  {
   "cell_type": "code",
   "execution_count": 47,
   "id": "7a4b434c",
   "metadata": {},
   "outputs": [
    {
     "name": "stdout",
     "output_type": "stream",
     "text": [
      "-2.0\n"
     ]
    }
   ],
   "source": [
    "print(max([algn.score for algn in a]))"
   ]
  }
 ],
 "metadata": {
  "kernelspec": {
   "display_name": "Python 3 (ipykernel)",
   "language": "python",
   "name": "python3"
  },
  "language_info": {
   "codemirror_mode": {
    "name": "ipython",
    "version": 3
   },
   "file_extension": ".py",
   "mimetype": "text/x-python",
   "name": "python",
   "nbconvert_exporter": "python",
   "pygments_lexer": "ipython3",
   "version": "3.8.13"
  }
 },
 "nbformat": 4,
 "nbformat_minor": 5
}

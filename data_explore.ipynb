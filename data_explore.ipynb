{
 "cells": [
  {
   "cell_type": "code",
   "execution_count": 1,
   "id": "b7d106b4",
   "metadata": {},
   "outputs": [],
   "source": [
    "import json\n",
    "import pprint\n",
    "import matplotlib.pyplot as plt\n",
    "import math\n",
    "import statistics\n",
    "import os"
   ]
  },
  {
   "cell_type": "code",
   "execution_count": 4,
   "id": "76d5603b",
   "metadata": {},
   "outputs": [],
   "source": [
    "class DataExplorer():\n",
    "    def __init__(self, organism_name):\n",
    "        self.organism_name = organism_name\n",
    "        \n",
    "        # find protein links and protein info\n",
    "        self.data_dir = \"data\"\n",
    "        self.data_files = os.listdir(self.data_dir + \"/{}/\".format(organism_name))\n",
    "        \n",
    "        for file in self.data_files:\n",
    "            if \"links\" in file: self.links_file = self.data_dir + \"/{}/\".format(organism_name) + file\n",
    "                \n",
    "        for file in self.data_files:\n",
    "            if \"info\" in file: self.info_file = self.data_dir + \"/{}/\".format(organism_name) + file\n",
    "        \n",
    "        self.filtered_names, self.unfiltered_names = self.filter_protein_names(self.make_protein_names())   \n",
    "        self.adj_list = self.make_adj_list(self.make_protein_links())\n",
    "        \n",
    "    def make_protein_links(self):\n",
    "        with open(self.links_file) as file:\n",
    "            lines = []\n",
    "            for line in file:\n",
    "                lines.append(line.split())\n",
    "            protein_links = lines\n",
    "        file.close()\n",
    "        \n",
    "        return protein_links[1:]\n",
    "    \n",
    "    def make_protein_names(self):\n",
    "        with open(self.info_file) as file:\n",
    "            lines = []\n",
    "            for line in file:\n",
    "                lines.append(line.split()[0:2])\n",
    "            protein_names = lines\n",
    "        file.close()\n",
    "        \n",
    "        return protein_names[1:]\n",
    "    \n",
    "    def filter_protein_names(self, protein_names):\n",
    "        protein_names_filtered = {}\n",
    "        protein_names_unfiltered = {}\n",
    "\n",
    "        for name in protein_names:\n",
    "            protein_id, pref_name = name\n",
    "            protein_names_unfiltered[protein_id] = pref_name\n",
    "            prefix = protein_id[int(protein_id.index(\".\")) + 1 : int(protein_id.index(\"_\"))]\n",
    "\n",
    "            if not pref_name.startswith(prefix):\n",
    "                protein_names_filtered[protein_id] = pref_name\n",
    "        return protein_names_filtered, protein_names_unfiltered\n",
    "    \n",
    "    def make_adj_list(self, protein_links):\n",
    "        protein_links_dict = {}\n",
    "\n",
    "        for link in protein_links:\n",
    "            protein_1, protein_2, score = link\n",
    "\n",
    "            if protein_1 not in protein_links_dict: \n",
    "                protein_links_dict[protein_1] = [(protein_2, round(int(score) / 1000, 7))]\n",
    "            else:\n",
    "                protein_links_dict[protein_1].append((protein_2, round(int(score) / 1000, 7)))\n",
    "        \n",
    "        return protein_links_dict"
   ]
  },
  {
   "cell_type": "code",
   "execution_count": 9,
   "id": "3b6fc114",
   "metadata": {},
   "outputs": [],
   "source": [
    "def make_plot(obj):\n",
    "    f, (ax1, ax2) = plt.subplots(2, 1, figsize=(6, 5), gridspec_kw={'width_ratios': [1], 'height_ratios': [12, 4]})\n",
    "    f.tight_layout()\n",
    "    \n",
    "    ilovephillip = plt.imread(\"compeau2.png\")\n",
    "    ax1.imshow(ilovephillip, extent=[1200,1600,600,900])\n",
    "    \n",
    "    # calculate average degree\n",
    "    node_degrees = [len(obj.adj_list[i]) for i in obj.adj_list]\n",
    "    degree_mean = sum(node_degrees) / len(node_degrees)\n",
    "    \n",
    "    # calculate graph density\n",
    "    max_edges = int(len(obj.adj_list) * (len(obj.adj_list) - 1) / 2)\n",
    "    number_edges = int(sum(node_degrees) / 2) # woah handshake lemma\n",
    "    \n",
    "    # calculate average score\n",
    "    scores = []\n",
    "    \n",
    "    for prot in obj.adj_list:\n",
    "        for interaction in obj.adj_list[prot]:\n",
    "            scores.append(interaction[1])\n",
    "    \n",
    "    score_mean = sum(scores) / (2 * number_edges)\n",
    "    \n",
    "    n_bins = int(1 + 3.22 * math.log(len(node_degrees)))\n",
    "    \n",
    "    ax1.hist(node_degrees, bins = n_bins, alpha=0.8)\n",
    "    ax1.set_title(\"PPI Network Degree Histogram ({})\".format(obj.organism_name))\n",
    "    ax1.set_xlabel(\"Node degrees\")\n",
    "    ax1.set_ylabel(\"Frequency\")\n",
    "    \n",
    "    # ax2.set_title(\"PPI Network Statistics\")\n",
    "    ax2.axis('tight')\n",
    "    ax2.axis('off')\n",
    "    table = ax2.table(cellText = [[round(degree_mean, 3)],\n",
    "                          [round(number_edges / max_edges, 3)], \n",
    "                          [round(score_mean, 3)]], \n",
    "              rowLabels=[\"Average degree\", \"Density ([0, 1])\", \"Average score ([0, 1])\"], \n",
    "              loc='center', cellLoc='center', edges='open', colWidths=[0.3, 1])\n",
    "\n",
    "    table.auto_set_font_size(False)\n",
    "    table.set_fontsize(14)\n",
    "    \n",
    "    plt.savefig(\"{}-ppi-histogram.jpg\".format(obj.organism_name), bbox_inches='tight', pad_inches=0.3)"
   ]
  },
  {
   "cell_type": "code",
   "execution_count": 12,
   "id": "ccd75e04",
   "metadata": {},
   "outputs": [],
   "source": [
    "def plot_datasets():\n",
    "    subfolders = [f for f in os.scandir(\"data\") if f.is_dir()]\n",
    "    \n",
    "    for orgsm in subfolders:\n",
    "        orgsm_name = orgsm.name\n",
    "        orgsm_explorer = DataExplorer(orgsm_name)\n",
    "        \n",
    "        make_plot(orgsm_explorer)"
   ]
  },
  {
   "cell_type": "code",
   "execution_count": 11,
   "id": "24be4868",
   "metadata": {},
   "outputs": [
    {
     "data": {
      "image/png": "[encoded data removed]",
      "text/plain": [
       "<Figure size 432x360 with 2 Axes>"
      ]
     },
     "metadata": {
      "needs_background": "light"
     },
     "output_type": "display_data"
    }
   ],
   "source": [
    "# plot_datasets()"
   ]
  }
 ],
 "metadata": {
  "kernelspec": {
   "display_name": "Python 3 (ipykernel)",
   "language": "python",
   "name": "python3"
  },
  "language_info": {
   "codemirror_mode": {
    "name": "ipython",
    "version": 3
   },
   "file_extension": ".py",
   "mimetype": "text/x-python",
   "name": "python",
   "nbconvert_exporter": "python",
   "pygments_lexer": "ipython3",
   "version": "3.9.7"
  }
 },
 "nbformat": 4,
 "nbformat_minor": 5
}

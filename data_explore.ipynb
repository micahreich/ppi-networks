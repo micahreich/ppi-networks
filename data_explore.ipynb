{
 "cells": [
  {
   "cell_type": "code",
   "execution_count": 59,
   "id": "b7d106b4",
   "metadata": {},
   "outputs": [],
   "source": [
    "import json\n",
    "import xmltodict\n",
    "import pprint\n",
    "import matplotlib.pyplot as plt\n",
    "import math\n",
    "import statistics\n",
    "import os"
   ]
  },
  {
   "cell_type": "code",
   "execution_count": 94,
   "id": "41bfec5b",
   "metadata": {},
   "outputs": [],
   "source": [
    "class DataExplorer():\n",
    "    def __init__(self, organism_name):\n",
    "        self.organism_name = organism_name\n",
    "        \n",
    "        # find protein links and protein info\n",
    "        self.data_dir = \"data\"\n",
    "        self.data_files = os.listdir(self.data_dir + \"/{}/\".format(organism_name))\n",
    "        \n",
    "        for file in self.data_files:\n",
    "            if \"links\" in file: self.links_file = self.data_dir + \"/{}/\".format(organism_name) + file\n",
    "                \n",
    "        for file in self.data_files:\n",
    "            if \"info\" in file: self.info_file = self.data_dir + \"/{}/\".format(organism_name) + file\n",
    "        \n",
    "        self.filtered_names, self.unfiltered_names = self.filter_protein_names(self.make_protein_names())   \n",
    "        self.adj_list = self.make_adj_list(self.make_protein_links())\n",
    "        \n",
    "    def make_protein_links(self):\n",
    "        with open(self.links_file) as file:\n",
    "            lines = []\n",
    "            for line in file:\n",
    "                lines.append(line.split())\n",
    "            protein_links = lines\n",
    "        file.close()\n",
    "        \n",
    "        return protein_links[1:]\n",
    "    \n",
    "    def make_protein_names(self):\n",
    "        with open(self.info_file) as file:\n",
    "            lines = []\n",
    "            for line in file:\n",
    "                lines.append(line.split()[0:2])\n",
    "            protein_names = lines\n",
    "        file.close()\n",
    "        \n",
    "        return protein_names[1:]\n",
    "    \n",
    "    def filter_protein_names(self, protein_names):\n",
    "        protein_names_filtered = {}\n",
    "        protein_names_unfiltered = {}\n",
    "\n",
    "        for name in protein_names:\n",
    "            protein_id, pref_name = name\n",
    "            protein_names_unfiltered[protein_id] = pref_name\n",
    "            prefix = protein_id[int(protein_id.index(\".\")) + 1 : int(protein_id.index(\"_\"))]\n",
    "\n",
    "            if not pref_name.startswith(prefix):\n",
    "                protein_names_filtered[protein_id] = pref_name\n",
    "        return protein_names_filtered, protein_names_unfiltered\n",
    "    \n",
    "    def make_adj_list(self, protein_links):\n",
    "        protein_links_dict = {}\n",
    "\n",
    "        for link in protein_links:\n",
    "            protein_1, protein_2, score = link\n",
    "\n",
    "            if protein_1 not in protein_links_dict: \n",
    "                protein_links_dict[protein_1] = [protein_2]\n",
    "            else:\n",
    "                protein_links_dict[protein_1].append(protein_2)\n",
    "        \n",
    "        return protein_links_dict"
   ]
  },
  {
   "cell_type": "code",
   "execution_count": 88,
   "id": "3148b6e9",
   "metadata": {
    "scrolled": true
   },
   "outputs": [
    {
     "name": "stdout",
     "output_type": "stream",
     "text": [
      "Highest degree node 362663.ECP_1943 (ECP_1943) with degree 1632\n"
     ]
    }
   ],
   "source": [
    "# quick test to find the most connected protein\n",
    "\n",
    "longest_key_len = 0\n",
    "longest_key = None\n",
    "\n",
    "for i in protein_links_dict:\n",
    "    if len(protein_links_dict[i]) > longest_key_len:\n",
    "        longest_key_len = len(protein_links_dict[i])\n",
    "        longest_key = i\n",
    "        \n",
    "print(\"Highest degree node %s (%s) with degree %d\" % (\n",
    "    longest_key, protein_names_unfiltered[longest_key], len(protein_links_dict[longest_key]))\n",
    "     )"
   ]
  },
  {
   "cell_type": "code",
   "execution_count": 97,
   "id": "10045aa8",
   "metadata": {},
   "outputs": [
    {
     "name": "stdout",
     "output_type": "stream",
     "text": [
      "4629 4600\n"
     ]
    }
   ],
   "source": [
    "EColi = DataExplorer(\"ecoli\")"
   ]
  },
  {
   "cell_type": "code",
   "execution_count": 90,
   "id": "3b6fc114",
   "metadata": {},
   "outputs": [
    {
     "data": {
      "text/plain": [
       "Text(0.5, 0, 'Node degrees')"
      ]
     },
     "execution_count": 90,
     "metadata": {},
     "output_type": "execute_result"
    },
    {
     "data": {
      "image/png": "[encoded data removed]",
      "text/plain": [
       "<Figure size 432x288 with 1 Axes>"
      ]
     },
     "metadata": {
      "needs_background": "light"
     },
     "output_type": "display_data"
    }
   ],
   "source": [
    "# get list of node degrees, plot histogram\n",
    "\n",
    "node_degrees = [len(EColi.adj_list[i]) for i in EColi.adj_list]\n",
    "\n",
    "n_bins = int(1 + 3.22 * math.log(len(node_degrees)))\n",
    "plt.hist(node_degrees, bins = n_bins)\n",
    "plt.title(\"PPI Network Degree Histogram\")\n",
    "plt.ylabel(\"Frequency\")\n",
    "plt.xlabel(\"Node degrees\")"
   ]
  },
  {
   "cell_type": "code",
   "execution_count": 91,
   "id": "7167ca96",
   "metadata": {},
   "outputs": [
    {
     "name": "stdout",
     "output_type": "stream",
     "text": [
      "# Proteins 4629\n",
      "Degree mean: 176.823\n",
      " % of whole: 3.81989%\n",
      "Degree median: 151.000\n",
      " % of whole: 3.26204%\n"
     ]
    }
   ],
   "source": [
    "# get average node degree\n",
    "\n",
    "degree_mean = sum(node_degrees) / len(node_degrees)\n",
    "degree_median = statistics.median(node_degrees)\n",
    "\n",
    "print(\"# Proteins\", len(protein_names_unfiltered))\n",
    "print(\"Degree mean: {:.3f}\\n % of whole: {:.5f}%\".format(\n",
    "  round(degree_mean, 5), round(100 * degree_mean / len(protein_names_unfiltered), 5)  \n",
    "))\n",
    "print(\"Degree median: {:.3f}\\n % of whole: {:.5f}%\".format(\n",
    "  round(degree_median, 5), round(100 * degree_median / len(protein_names_unfiltered), 5)  \n",
    "))"
   ]
  },
  {
   "cell_type": "code",
   "execution_count": 103,
   "id": "1c4c0644",
   "metadata": {},
   "outputs": [
    {
     "name": "stdout",
     "output_type": "stream",
     "text": [
      "Density: 0.038\n"
     ]
    }
   ],
   "source": [
    "# get graph density\n",
    "max_edges = int(len(node_degrees) * (len(node_degrees) - 1) / 2)\n",
    "number_edges = int(sum(node_degrees) / 2) # woah handshake lemma\n",
    "\n",
    "print(\"Density: {:.3f}\".format(number_edges / max_edges))\n"
   ]
  }
 ],
 "metadata": {
  "kernelspec": {
   "display_name": "Python 3",
   "language": "python",
   "name": "python3"
  },
  "language_info": {
   "codemirror_mode": {
    "name": "ipython",
    "version": 3
   },
   "file_extension": ".py",
   "mimetype": "text/x-python",
   "name": "python",
   "nbconvert_exporter": "python",
   "pygments_lexer": "ipython3",
   "version": "3.8.8"
  }
 },
 "nbformat": 4,
 "nbformat_minor": 5
}

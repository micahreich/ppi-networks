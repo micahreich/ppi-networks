{
 "cells": [
  {
   "cell_type": "code",
   "execution_count": 4,
   "id": "0ba420ec",
   "metadata": {},
   "outputs": [
    {
     "name": "stdout",
     "output_type": "stream",
     "text": [
      "protein1 protein2 combined_score\n",
      "#string_protein_id\tpreferred_name\tprotein_size\tannotation\n"
     ]
    }
   ],
   "source": [
    "# data parsing\n",
    "network = 'data/362663.protein.links.v11.5.txt'\n",
    "label = 'data/362663.protein.info.v11.5.txt'\n",
    "\n",
    "with open(network) as f:\n",
    "    network_input = f.read().splitlines()\n",
    "    \n",
    "with open(labels) as f:\n",
    "    label_input = f.read().splitlines()\n",
    "    \n",
    "print(network_input[0])\n",
    "print(label_input[0])"
   ]
  },
  {
   "cell_type": "code",
   "execution_count": 5,
   "id": "e62c03ac",
   "metadata": {},
   "outputs": [],
   "source": [
    "# import statements\n",
    "import numpy as np\n",
    "import pandas as pd"
   ]
  },
  {
   "cell_type": "code",
   "execution_count": 6,
   "id": "d9d90f02",
   "metadata": {},
   "outputs": [
    {
     "name": "stdout",
     "output_type": "stream",
     "text": [
      "['protein1', 'protein2', 'combined_score']\n",
      "['#string_protein_id', 'preferred_name', 'protein_size', 'annotation']\n"
     ]
    }
   ],
   "source": [
    "network_cols = network_input[0].split()\n",
    "label_cols = label_input[0].split()"
   ]
  },
  {
   "cell_type": "code",
   "execution_count": null,
   "id": "d73a7691",
   "metadata": {},
   "outputs": [],
   "source": [
    "# define Graph and Vertex classes\n",
    "# reference: https://www.bogotobogo.com/python/python_graph_data_structures.php\n",
    "class Graph:\n",
    "    def __init__(self):\n",
    "        self.adj_list = {}\n",
    "        \n",
    "    def add_vertex(self, node):\n",
    "        self.adj_list[node] = []"
   ]
  }
 ],
 "metadata": {
  "kernelspec": {
   "display_name": "Python 3 (ipykernel)",
   "language": "python",
   "name": "python3"
  },
  "language_info": {
   "codemirror_mode": {
    "name": "ipython",
    "version": 3
   },
   "file_extension": ".py",
   "mimetype": "text/x-python",
   "name": "python",
   "nbconvert_exporter": "python",
   "pygments_lexer": "ipython3",
   "version": "3.9.7"
  }
 },
 "nbformat": 4,
 "nbformat_minor": 5
}

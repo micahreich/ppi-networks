{
 "cells": [
  {
   "cell_type": "code",
   "execution_count": 9,
   "id": "e62c03ac",
   "metadata": {},
   "outputs": [],
   "source": [
    "# import statements\n",
    "import numpy as np\n",
    "from ipynb.fs.full.data_explore import DataExplorer"
   ]
  },
  {
   "cell_type": "code",
   "execution_count": 20,
   "id": "b45aae06",
   "metadata": {},
   "outputs": [],
   "source": [
    "class AnnotatedExplorer(DataExplorer):\n",
    "    def __init__(self, organism_name):\n",
    "        super().__init__(organism_name)\n",
    "        self.annotations = []"
   ]
  },
  {
   "cell_type": "code",
   "execution_count": 21,
   "id": "bba202e5",
   "metadata": {},
   "outputs": [
    {
     "data": {
      "text/plain": [
       "<__main__.AnnotatedExplorer at 0x7fc7c4f5d7c0>"
      ]
     },
     "execution_count": 21,
     "metadata": {},
     "output_type": "execute_result"
    }
   ],
   "source": [
    "AnnotatedExplorer(\"ecoli\")"
   ]
  }
 ],
 "metadata": {
  "kernelspec": {
   "display_name": "Python 3 (ipykernel)",
   "language": "python",
   "name": "python3"
  },
  "language_info": {
   "codemirror_mode": {
    "name": "ipython",
    "version": 3
   },
   "file_extension": ".py",
   "mimetype": "text/x-python",
   "name": "python",
   "nbconvert_exporter": "python",
   "pygments_lexer": "ipython3",
   "version": "3.8.13"
  }
 },
 "nbformat": 4,
 "nbformat_minor": 5
}
